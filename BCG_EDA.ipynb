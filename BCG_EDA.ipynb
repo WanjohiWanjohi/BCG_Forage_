{
  "nbformat": 4,
  "nbformat_minor": 0,
  "metadata": {
    "colab": {
      "name": "BCG_EDA.ipynb",
      "provenance": [],
      "authorship_tag": "ABX9TyMIn/LYB9T44BemP87YFIJM",
      "include_colab_link": true
    },
    "kernelspec": {
      "name": "python3",
      "display_name": "Python 3"
    },
    "language_info": {
      "name": "python"
    }
  },
  "cells": [
    {
      "cell_type": "markdown",
      "metadata": {
        "id": "view-in-github",
        "colab_type": "text"
      },
      "source": [
        "<a href=\"https://colab.research.google.com/github/WanjohiWanjohi/BCG_Forage_/blob/main/BCG_EDA.ipynb\" target=\"_parent\"><img src=\"https://colab.research.google.com/assets/colab-badge.svg\" alt=\"Open In Colab\"/></a>"
      ]
    },
    {
      "cell_type": "code",
      "metadata": {
        "id": "WjV7m4Sc75tf"
      },
      "source": [
        "import matplotlib.pyplot as plt\n",
        "import numpy as np\n",
        "import os\n",
        "import pandas as pd\n",
        "import seaborn as sns\n",
        "import datetime\n",
        "import pickle"
      ],
      "execution_count": 2,
      "outputs": []
    },
    {
      "cell_type": "code",
      "metadata": {
        "id": "X1CdcthpvLCp"
      },
      "source": [
        "#notebook settings\n",
        "sns.set(color_codes=True)\n",
        "%matplotlib inline\n",
        "pd.set_option('display.max_columns', 100)"
      ],
      "execution_count": 3,
      "outputs": []
    },
    {
      "cell_type": "code",
      "metadata": {
        "id": "7B0SqNZ_9Wyu"
      },
      "source": [
        "train_data  = pd.read_csv('ml_case_training_data.csv')\n",
        "history_data = pd.read_csv('ml_case_training_hist_data.csv')\n",
        "churn_data = pd.read_csv('ml_case_training_output.csv')"
      ],
      "execution_count": 5,
      "outputs": []
    },
    {
      "cell_type": "code",
      "metadata": {
        "id": "odBY6BTz-ZOs"
      },
      "source": [
        "#join customer info\n",
        "train=pd.merge(train_data, churn_data, on=\"id\")"
      ],
      "execution_count": 6,
      "outputs": []
    },
    {
      "cell_type": "code",
      "metadata": {
        "colab": {
          "base_uri": "https://localhost:8080/",
          "height": 320
        },
        "id": "Or-st6WKxaBa",
        "outputId": "adba38e0-2502-4d7f-9f1e-5d847edac62e"
      },
      "source": [
        "#train statistics\n",
        "train.describe()"
      ],
      "execution_count": 7,
      "outputs": [
        {
          "output_type": "execute_result",
          "data": {
            "text/html": [
              "<div>\n",
              "<style scoped>\n",
              "    .dataframe tbody tr th:only-of-type {\n",
              "        vertical-align: middle;\n",
              "    }\n",
              "\n",
              "    .dataframe tbody tr th {\n",
              "        vertical-align: top;\n",
              "    }\n",
              "\n",
              "    .dataframe thead th {\n",
              "        text-align: right;\n",
              "    }\n",
              "</style>\n",
              "<table border=\"1\" class=\"dataframe\">\n",
              "  <thead>\n",
              "    <tr style=\"text-align: right;\">\n",
              "      <th></th>\n",
              "      <th>campaign_disc_ele</th>\n",
              "      <th>cons_12m</th>\n",
              "      <th>cons_gas_12m</th>\n",
              "      <th>cons_last_month</th>\n",
              "      <th>forecast_base_bill_ele</th>\n",
              "      <th>forecast_base_bill_year</th>\n",
              "      <th>forecast_bill_12m</th>\n",
              "      <th>forecast_cons</th>\n",
              "      <th>forecast_cons_12m</th>\n",
              "      <th>forecast_cons_year</th>\n",
              "      <th>forecast_discount_energy</th>\n",
              "      <th>forecast_meter_rent_12m</th>\n",
              "      <th>forecast_price_energy_p1</th>\n",
              "      <th>forecast_price_energy_p2</th>\n",
              "      <th>forecast_price_pow_p1</th>\n",
              "      <th>imp_cons</th>\n",
              "      <th>margin_gross_pow_ele</th>\n",
              "      <th>margin_net_pow_ele</th>\n",
              "      <th>nb_prod_act</th>\n",
              "      <th>net_margin</th>\n",
              "      <th>num_years_antig</th>\n",
              "      <th>pow_max</th>\n",
              "      <th>churn</th>\n",
              "    </tr>\n",
              "  </thead>\n",
              "  <tbody>\n",
              "    <tr>\n",
              "      <th>count</th>\n",
              "      <td>0.0</td>\n",
              "      <td>1.609600e+04</td>\n",
              "      <td>1.609600e+04</td>\n",
              "      <td>1.609600e+04</td>\n",
              "      <td>3508.000000</td>\n",
              "      <td>3508.000000</td>\n",
              "      <td>3508.000000</td>\n",
              "      <td>3508.000000</td>\n",
              "      <td>16096.000000</td>\n",
              "      <td>16096.000000</td>\n",
              "      <td>15970.000000</td>\n",
              "      <td>16096.000000</td>\n",
              "      <td>15970.000000</td>\n",
              "      <td>15970.000000</td>\n",
              "      <td>15970.000000</td>\n",
              "      <td>16096.000000</td>\n",
              "      <td>16083.000000</td>\n",
              "      <td>16083.000000</td>\n",
              "      <td>16096.000000</td>\n",
              "      <td>16081.000000</td>\n",
              "      <td>16096.000000</td>\n",
              "      <td>16093.000000</td>\n",
              "      <td>16096.000000</td>\n",
              "    </tr>\n",
              "    <tr>\n",
              "      <th>mean</th>\n",
              "      <td>NaN</td>\n",
              "      <td>1.948044e+05</td>\n",
              "      <td>3.191164e+04</td>\n",
              "      <td>1.946154e+04</td>\n",
              "      <td>335.843857</td>\n",
              "      <td>335.843857</td>\n",
              "      <td>3837.441866</td>\n",
              "      <td>206.845165</td>\n",
              "      <td>2370.555949</td>\n",
              "      <td>1907.347229</td>\n",
              "      <td>0.991547</td>\n",
              "      <td>70.309945</td>\n",
              "      <td>0.135901</td>\n",
              "      <td>0.052951</td>\n",
              "      <td>43.533496</td>\n",
              "      <td>196.123447</td>\n",
              "      <td>22.462276</td>\n",
              "      <td>21.460318</td>\n",
              "      <td>1.347788</td>\n",
              "      <td>217.987028</td>\n",
              "      <td>5.030629</td>\n",
              "      <td>20.604131</td>\n",
              "      <td>0.099093</td>\n",
              "    </tr>\n",
              "    <tr>\n",
              "      <th>std</th>\n",
              "      <td>NaN</td>\n",
              "      <td>6.795151e+05</td>\n",
              "      <td>1.775885e+05</td>\n",
              "      <td>8.235676e+04</td>\n",
              "      <td>649.406000</td>\n",
              "      <td>649.406000</td>\n",
              "      <td>5425.744327</td>\n",
              "      <td>455.634288</td>\n",
              "      <td>4035.085664</td>\n",
              "      <td>5257.364759</td>\n",
              "      <td>5.160969</td>\n",
              "      <td>79.023251</td>\n",
              "      <td>0.026252</td>\n",
              "      <td>0.048617</td>\n",
              "      <td>5.212252</td>\n",
              "      <td>494.366979</td>\n",
              "      <td>23.700883</td>\n",
              "      <td>27.917349</td>\n",
              "      <td>1.459808</td>\n",
              "      <td>366.742030</td>\n",
              "      <td>1.676101</td>\n",
              "      <td>21.772421</td>\n",
              "      <td>0.298796</td>\n",
              "    </tr>\n",
              "    <tr>\n",
              "      <th>min</th>\n",
              "      <td>NaN</td>\n",
              "      <td>-1.252760e+05</td>\n",
              "      <td>-3.037000e+03</td>\n",
              "      <td>-9.138600e+04</td>\n",
              "      <td>-364.940000</td>\n",
              "      <td>-364.940000</td>\n",
              "      <td>-2503.480000</td>\n",
              "      <td>0.000000</td>\n",
              "      <td>-16689.260000</td>\n",
              "      <td>-85627.000000</td>\n",
              "      <td>0.000000</td>\n",
              "      <td>-242.960000</td>\n",
              "      <td>0.000000</td>\n",
              "      <td>0.000000</td>\n",
              "      <td>-0.122184</td>\n",
              "      <td>-9038.210000</td>\n",
              "      <td>-525.540000</td>\n",
              "      <td>-615.660000</td>\n",
              "      <td>1.000000</td>\n",
              "      <td>-4148.990000</td>\n",
              "      <td>1.000000</td>\n",
              "      <td>1.000000</td>\n",
              "      <td>0.000000</td>\n",
              "    </tr>\n",
              "    <tr>\n",
              "      <th>25%</th>\n",
              "      <td>NaN</td>\n",
              "      <td>5.906250e+03</td>\n",
              "      <td>0.000000e+00</td>\n",
              "      <td>0.000000e+00</td>\n",
              "      <td>0.000000</td>\n",
              "      <td>0.000000</td>\n",
              "      <td>1158.175000</td>\n",
              "      <td>0.000000</td>\n",
              "      <td>513.230000</td>\n",
              "      <td>0.000000</td>\n",
              "      <td>0.000000</td>\n",
              "      <td>16.230000</td>\n",
              "      <td>0.115237</td>\n",
              "      <td>0.000000</td>\n",
              "      <td>40.606701</td>\n",
              "      <td>0.000000</td>\n",
              "      <td>11.960000</td>\n",
              "      <td>11.950000</td>\n",
              "      <td>1.000000</td>\n",
              "      <td>51.970000</td>\n",
              "      <td>4.000000</td>\n",
              "      <td>12.500000</td>\n",
              "      <td>0.000000</td>\n",
              "    </tr>\n",
              "    <tr>\n",
              "      <th>50%</th>\n",
              "      <td>NaN</td>\n",
              "      <td>1.533250e+04</td>\n",
              "      <td>0.000000e+00</td>\n",
              "      <td>9.010000e+02</td>\n",
              "      <td>162.955000</td>\n",
              "      <td>162.955000</td>\n",
              "      <td>2187.230000</td>\n",
              "      <td>42.215000</td>\n",
              "      <td>1179.160000</td>\n",
              "      <td>378.000000</td>\n",
              "      <td>0.000000</td>\n",
              "      <td>19.440000</td>\n",
              "      <td>0.142881</td>\n",
              "      <td>0.086163</td>\n",
              "      <td>44.311378</td>\n",
              "      <td>44.465000</td>\n",
              "      <td>21.090000</td>\n",
              "      <td>20.970000</td>\n",
              "      <td>1.000000</td>\n",
              "      <td>119.680000</td>\n",
              "      <td>5.000000</td>\n",
              "      <td>13.856000</td>\n",
              "      <td>0.000000</td>\n",
              "    </tr>\n",
              "    <tr>\n",
              "      <th>75%</th>\n",
              "      <td>NaN</td>\n",
              "      <td>5.022150e+04</td>\n",
              "      <td>0.000000e+00</td>\n",
              "      <td>4.127000e+03</td>\n",
              "      <td>396.185000</td>\n",
              "      <td>396.185000</td>\n",
              "      <td>4246.555000</td>\n",
              "      <td>228.117500</td>\n",
              "      <td>2692.077500</td>\n",
              "      <td>1994.250000</td>\n",
              "      <td>0.000000</td>\n",
              "      <td>131.470000</td>\n",
              "      <td>0.146348</td>\n",
              "      <td>0.098837</td>\n",
              "      <td>44.311378</td>\n",
              "      <td>218.090000</td>\n",
              "      <td>29.640000</td>\n",
              "      <td>29.640000</td>\n",
              "      <td>1.000000</td>\n",
              "      <td>275.810000</td>\n",
              "      <td>6.000000</td>\n",
              "      <td>19.800000</td>\n",
              "      <td>0.000000</td>\n",
              "    </tr>\n",
              "    <tr>\n",
              "      <th>max</th>\n",
              "      <td>NaN</td>\n",
              "      <td>1.609711e+07</td>\n",
              "      <td>4.188440e+06</td>\n",
              "      <td>4.538720e+06</td>\n",
              "      <td>12566.080000</td>\n",
              "      <td>12566.080000</td>\n",
              "      <td>81122.630000</td>\n",
              "      <td>9682.890000</td>\n",
              "      <td>103801.930000</td>\n",
              "      <td>175375.000000</td>\n",
              "      <td>50.000000</td>\n",
              "      <td>2411.690000</td>\n",
              "      <td>0.273963</td>\n",
              "      <td>0.195975</td>\n",
              "      <td>59.444710</td>\n",
              "      <td>15042.790000</td>\n",
              "      <td>374.640000</td>\n",
              "      <td>374.640000</td>\n",
              "      <td>32.000000</td>\n",
              "      <td>24570.650000</td>\n",
              "      <td>16.000000</td>\n",
              "      <td>500.000000</td>\n",
              "      <td>1.000000</td>\n",
              "    </tr>\n",
              "  </tbody>\n",
              "</table>\n",
              "</div>"
            ],
            "text/plain": [
              "       campaign_disc_ele      cons_12m  cons_gas_12m  cons_last_month  \\\n",
              "count                0.0  1.609600e+04  1.609600e+04     1.609600e+04   \n",
              "mean                 NaN  1.948044e+05  3.191164e+04     1.946154e+04   \n",
              "std                  NaN  6.795151e+05  1.775885e+05     8.235676e+04   \n",
              "min                  NaN -1.252760e+05 -3.037000e+03    -9.138600e+04   \n",
              "25%                  NaN  5.906250e+03  0.000000e+00     0.000000e+00   \n",
              "50%                  NaN  1.533250e+04  0.000000e+00     9.010000e+02   \n",
              "75%                  NaN  5.022150e+04  0.000000e+00     4.127000e+03   \n",
              "max                  NaN  1.609711e+07  4.188440e+06     4.538720e+06   \n",
              "\n",
              "       forecast_base_bill_ele  forecast_base_bill_year  forecast_bill_12m  \\\n",
              "count             3508.000000              3508.000000        3508.000000   \n",
              "mean               335.843857               335.843857        3837.441866   \n",
              "std                649.406000               649.406000        5425.744327   \n",
              "min               -364.940000              -364.940000       -2503.480000   \n",
              "25%                  0.000000                 0.000000        1158.175000   \n",
              "50%                162.955000               162.955000        2187.230000   \n",
              "75%                396.185000               396.185000        4246.555000   \n",
              "max              12566.080000             12566.080000       81122.630000   \n",
              "\n",
              "       forecast_cons  forecast_cons_12m  forecast_cons_year  \\\n",
              "count    3508.000000       16096.000000        16096.000000   \n",
              "mean      206.845165        2370.555949         1907.347229   \n",
              "std       455.634288        4035.085664         5257.364759   \n",
              "min         0.000000      -16689.260000       -85627.000000   \n",
              "25%         0.000000         513.230000            0.000000   \n",
              "50%        42.215000        1179.160000          378.000000   \n",
              "75%       228.117500        2692.077500         1994.250000   \n",
              "max      9682.890000      103801.930000       175375.000000   \n",
              "\n",
              "       forecast_discount_energy  forecast_meter_rent_12m  \\\n",
              "count              15970.000000             16096.000000   \n",
              "mean                   0.991547                70.309945   \n",
              "std                    5.160969                79.023251   \n",
              "min                    0.000000              -242.960000   \n",
              "25%                    0.000000                16.230000   \n",
              "50%                    0.000000                19.440000   \n",
              "75%                    0.000000               131.470000   \n",
              "max                   50.000000              2411.690000   \n",
              "\n",
              "       forecast_price_energy_p1  forecast_price_energy_p2  \\\n",
              "count              15970.000000              15970.000000   \n",
              "mean                   0.135901                  0.052951   \n",
              "std                    0.026252                  0.048617   \n",
              "min                    0.000000                  0.000000   \n",
              "25%                    0.115237                  0.000000   \n",
              "50%                    0.142881                  0.086163   \n",
              "75%                    0.146348                  0.098837   \n",
              "max                    0.273963                  0.195975   \n",
              "\n",
              "       forecast_price_pow_p1      imp_cons  margin_gross_pow_ele  \\\n",
              "count           15970.000000  16096.000000          16083.000000   \n",
              "mean               43.533496    196.123447             22.462276   \n",
              "std                 5.212252    494.366979             23.700883   \n",
              "min                -0.122184  -9038.210000           -525.540000   \n",
              "25%                40.606701      0.000000             11.960000   \n",
              "50%                44.311378     44.465000             21.090000   \n",
              "75%                44.311378    218.090000             29.640000   \n",
              "max                59.444710  15042.790000            374.640000   \n",
              "\n",
              "       margin_net_pow_ele   nb_prod_act    net_margin  num_years_antig  \\\n",
              "count        16083.000000  16096.000000  16081.000000     16096.000000   \n",
              "mean            21.460318      1.347788    217.987028         5.030629   \n",
              "std             27.917349      1.459808    366.742030         1.676101   \n",
              "min           -615.660000      1.000000  -4148.990000         1.000000   \n",
              "25%             11.950000      1.000000     51.970000         4.000000   \n",
              "50%             20.970000      1.000000    119.680000         5.000000   \n",
              "75%             29.640000      1.000000    275.810000         6.000000   \n",
              "max            374.640000     32.000000  24570.650000        16.000000   \n",
              "\n",
              "            pow_max         churn  \n",
              "count  16093.000000  16096.000000  \n",
              "mean      20.604131      0.099093  \n",
              "std       21.772421      0.298796  \n",
              "min        1.000000      0.000000  \n",
              "25%       12.500000      0.000000  \n",
              "50%       13.856000      0.000000  \n",
              "75%       19.800000      0.000000  \n",
              "max      500.000000      1.000000  "
            ]
          },
          "metadata": {
            "tags": []
          },
          "execution_count": 7
        }
      ]
    },
    {
      "cell_type": "markdown",
      "metadata": {
        "id": "XVhjuLNXxjbP"
      },
      "source": [
        "From above we can obtain a lot of information about the dataset we are dealing with. For example, some key facts include:\n",
        "1. The minimum consumption and forecasts for electricity and gas (yearly and monthly) are negative. This could mean that the client companies are producing energy and therefore energy should be \"returned\", although it is unlikely and we will consider it as corrupted data\n",
        "2. The campaign_disc_ele is an empty column. We verify it by running train[\"campaign_disc_ele\"].isnull().values.all()\n",
        "3. Highly skewed data when we look at the percentiles"
      ]
    },
    {
      "cell_type": "code",
      "metadata": {
        "colab": {
          "base_uri": "https://localhost:8080/",
          "height": 1000
        },
        "id": "VLcizPx3yHSi",
        "outputId": "8bdf38c3-41f8-4689-f00b-62987bc92e98"
      },
      "source": [
        "# check for null items\n",
        "pd.DataFrame({\"Missing values (%)\": train.isnull().sum()/len(train.index)*100})"
      ],
      "execution_count": 8,
      "outputs": [
        {
          "output_type": "execute_result",
          "data": {
            "text/html": [
              "<div>\n",
              "<style scoped>\n",
              "    .dataframe tbody tr th:only-of-type {\n",
              "        vertical-align: middle;\n",
              "    }\n",
              "\n",
              "    .dataframe tbody tr th {\n",
              "        vertical-align: top;\n",
              "    }\n",
              "\n",
              "    .dataframe thead th {\n",
              "        text-align: right;\n",
              "    }\n",
              "</style>\n",
              "<table border=\"1\" class=\"dataframe\">\n",
              "  <thead>\n",
              "    <tr style=\"text-align: right;\">\n",
              "      <th></th>\n",
              "      <th>Missing values (%)</th>\n",
              "    </tr>\n",
              "  </thead>\n",
              "  <tbody>\n",
              "    <tr>\n",
              "      <th>id</th>\n",
              "      <td>0.000000</td>\n",
              "    </tr>\n",
              "    <tr>\n",
              "      <th>activity_new</th>\n",
              "      <td>59.300447</td>\n",
              "    </tr>\n",
              "    <tr>\n",
              "      <th>campaign_disc_ele</th>\n",
              "      <td>100.000000</td>\n",
              "    </tr>\n",
              "    <tr>\n",
              "      <th>channel_sales</th>\n",
              "      <td>26.205268</td>\n",
              "    </tr>\n",
              "    <tr>\n",
              "      <th>cons_12m</th>\n",
              "      <td>0.000000</td>\n",
              "    </tr>\n",
              "    <tr>\n",
              "      <th>cons_gas_12m</th>\n",
              "      <td>0.000000</td>\n",
              "    </tr>\n",
              "    <tr>\n",
              "      <th>cons_last_month</th>\n",
              "      <td>0.000000</td>\n",
              "    </tr>\n",
              "    <tr>\n",
              "      <th>date_activ</th>\n",
              "      <td>0.000000</td>\n",
              "    </tr>\n",
              "    <tr>\n",
              "      <th>date_end</th>\n",
              "      <td>0.012425</td>\n",
              "    </tr>\n",
              "    <tr>\n",
              "      <th>date_first_activ</th>\n",
              "      <td>78.205765</td>\n",
              "    </tr>\n",
              "    <tr>\n",
              "      <th>date_modif_prod</th>\n",
              "      <td>0.975398</td>\n",
              "    </tr>\n",
              "    <tr>\n",
              "      <th>date_renewal</th>\n",
              "      <td>0.248509</td>\n",
              "    </tr>\n",
              "    <tr>\n",
              "      <th>forecast_base_bill_ele</th>\n",
              "      <td>78.205765</td>\n",
              "    </tr>\n",
              "    <tr>\n",
              "      <th>forecast_base_bill_year</th>\n",
              "      <td>78.205765</td>\n",
              "    </tr>\n",
              "    <tr>\n",
              "      <th>forecast_bill_12m</th>\n",
              "      <td>78.205765</td>\n",
              "    </tr>\n",
              "    <tr>\n",
              "      <th>forecast_cons</th>\n",
              "      <td>78.205765</td>\n",
              "    </tr>\n",
              "    <tr>\n",
              "      <th>forecast_cons_12m</th>\n",
              "      <td>0.000000</td>\n",
              "    </tr>\n",
              "    <tr>\n",
              "      <th>forecast_cons_year</th>\n",
              "      <td>0.000000</td>\n",
              "    </tr>\n",
              "    <tr>\n",
              "      <th>forecast_discount_energy</th>\n",
              "      <td>0.782803</td>\n",
              "    </tr>\n",
              "    <tr>\n",
              "      <th>forecast_meter_rent_12m</th>\n",
              "      <td>0.000000</td>\n",
              "    </tr>\n",
              "    <tr>\n",
              "      <th>forecast_price_energy_p1</th>\n",
              "      <td>0.782803</td>\n",
              "    </tr>\n",
              "    <tr>\n",
              "      <th>forecast_price_energy_p2</th>\n",
              "      <td>0.782803</td>\n",
              "    </tr>\n",
              "    <tr>\n",
              "      <th>forecast_price_pow_p1</th>\n",
              "      <td>0.782803</td>\n",
              "    </tr>\n",
              "    <tr>\n",
              "      <th>has_gas</th>\n",
              "      <td>0.000000</td>\n",
              "    </tr>\n",
              "    <tr>\n",
              "      <th>imp_cons</th>\n",
              "      <td>0.000000</td>\n",
              "    </tr>\n",
              "    <tr>\n",
              "      <th>margin_gross_pow_ele</th>\n",
              "      <td>0.080765</td>\n",
              "    </tr>\n",
              "    <tr>\n",
              "      <th>margin_net_pow_ele</th>\n",
              "      <td>0.080765</td>\n",
              "    </tr>\n",
              "    <tr>\n",
              "      <th>nb_prod_act</th>\n",
              "      <td>0.000000</td>\n",
              "    </tr>\n",
              "    <tr>\n",
              "      <th>net_margin</th>\n",
              "      <td>0.093191</td>\n",
              "    </tr>\n",
              "    <tr>\n",
              "      <th>num_years_antig</th>\n",
              "      <td>0.000000</td>\n",
              "    </tr>\n",
              "    <tr>\n",
              "      <th>origin_up</th>\n",
              "      <td>0.540507</td>\n",
              "    </tr>\n",
              "    <tr>\n",
              "      <th>pow_max</th>\n",
              "      <td>0.018638</td>\n",
              "    </tr>\n",
              "    <tr>\n",
              "      <th>churn</th>\n",
              "      <td>0.000000</td>\n",
              "    </tr>\n",
              "  </tbody>\n",
              "</table>\n",
              "</div>"
            ],
            "text/plain": [
              "                          Missing values (%)\n",
              "id                                  0.000000\n",
              "activity_new                       59.300447\n",
              "campaign_disc_ele                 100.000000\n",
              "channel_sales                      26.205268\n",
              "cons_12m                            0.000000\n",
              "cons_gas_12m                        0.000000\n",
              "cons_last_month                     0.000000\n",
              "date_activ                          0.000000\n",
              "date_end                            0.012425\n",
              "date_first_activ                   78.205765\n",
              "date_modif_prod                     0.975398\n",
              "date_renewal                        0.248509\n",
              "forecast_base_bill_ele             78.205765\n",
              "forecast_base_bill_year            78.205765\n",
              "forecast_bill_12m                  78.205765\n",
              "forecast_cons                      78.205765\n",
              "forecast_cons_12m                   0.000000\n",
              "forecast_cons_year                  0.000000\n",
              "forecast_discount_energy            0.782803\n",
              "forecast_meter_rent_12m             0.000000\n",
              "forecast_price_energy_p1            0.782803\n",
              "forecast_price_energy_p2            0.782803\n",
              "forecast_price_pow_p1               0.782803\n",
              "has_gas                             0.000000\n",
              "imp_cons                            0.000000\n",
              "margin_gross_pow_ele                0.080765\n",
              "margin_net_pow_ele                  0.080765\n",
              "nb_prod_act                         0.000000\n",
              "net_margin                          0.093191\n",
              "num_years_antig                     0.000000\n",
              "origin_up                           0.540507\n",
              "pow_max                             0.018638\n",
              "churn                               0.000000"
            ]
          },
          "metadata": {
            "tags": []
          },
          "execution_count": 8
        }
      ]
    },
    {
      "cell_type": "markdown",
      "metadata": {
        "id": "8-vLqb08yYEU"
      },
      "source": [
        "In order to decide whether or not to do away with the null , let us check out the volume"
      ]
    },
    {
      "cell_type": "code",
      "metadata": {
        "colab": {
          "base_uri": "https://localhost:8080/",
          "height": 300
        },
        "id": "MQ-cyqkNyhTm",
        "outputId": "33b2ffc9-da37-4566-bcfa-7e120a24d572"
      },
      "source": [
        "pd.DataFrame({\"Missing values (%)\": history_data.isnull().sum()/len(history_data.index)*100})"
      ],
      "execution_count": 9,
      "outputs": [
        {
          "output_type": "execute_result",
          "data": {
            "text/html": [
              "<div>\n",
              "<style scoped>\n",
              "    .dataframe tbody tr th:only-of-type {\n",
              "        vertical-align: middle;\n",
              "    }\n",
              "\n",
              "    .dataframe tbody tr th {\n",
              "        vertical-align: top;\n",
              "    }\n",
              "\n",
              "    .dataframe thead th {\n",
              "        text-align: right;\n",
              "    }\n",
              "</style>\n",
              "<table border=\"1\" class=\"dataframe\">\n",
              "  <thead>\n",
              "    <tr style=\"text-align: right;\">\n",
              "      <th></th>\n",
              "      <th>Missing values (%)</th>\n",
              "    </tr>\n",
              "  </thead>\n",
              "  <tbody>\n",
              "    <tr>\n",
              "      <th>id</th>\n",
              "      <td>0.000000</td>\n",
              "    </tr>\n",
              "    <tr>\n",
              "      <th>price_date</th>\n",
              "      <td>0.000000</td>\n",
              "    </tr>\n",
              "    <tr>\n",
              "      <th>price_p1_var</th>\n",
              "      <td>0.704138</td>\n",
              "    </tr>\n",
              "    <tr>\n",
              "      <th>price_p2_var</th>\n",
              "      <td>0.704138</td>\n",
              "    </tr>\n",
              "    <tr>\n",
              "      <th>price_p3_var</th>\n",
              "      <td>0.704138</td>\n",
              "    </tr>\n",
              "    <tr>\n",
              "      <th>price_p1_fix</th>\n",
              "      <td>0.704138</td>\n",
              "    </tr>\n",
              "    <tr>\n",
              "      <th>price_p2_fix</th>\n",
              "      <td>0.704138</td>\n",
              "    </tr>\n",
              "    <tr>\n",
              "      <th>price_p3_fix</th>\n",
              "      <td>0.704138</td>\n",
              "    </tr>\n",
              "  </tbody>\n",
              "</table>\n",
              "</div>"
            ],
            "text/plain": [
              "              Missing values (%)\n",
              "id                      0.000000\n",
              "price_date              0.000000\n",
              "price_p1_var            0.704138\n",
              "price_p2_var            0.704138\n",
              "price_p3_var            0.704138\n",
              "price_p1_fix            0.704138\n",
              "price_p2_fix            0.704138\n",
              "price_p3_fix            0.704138"
            ]
          },
          "metadata": {
            "tags": []
          },
          "execution_count": 9
        }
      ]
    },
    {
      "cell_type": "code",
      "metadata": {
        "id": "qoV4ggW6yksw"
      },
      "source": [
        "#explore the churning rate\n",
        "churn=train[[\"id\",\"churn\"]]\n",
        "# Rename columns for visualization purposes\n",
        "churn.columns= [\"Companies\", \"churn\"]"
      ],
      "execution_count": 11,
      "outputs": []
    },
    {
      "cell_type": "code",
      "metadata": {
        "id": "6dYAv9v7ypss"
      },
      "source": [
        "def plot_stacked_bars(dataframe, title_, size_=(18, 10), rot_=0, legend_=\"upper right\"):\n",
        "  \"\"\"    Plot stacked bars with annotations    \"\"\"\n",
        "  ax=dataframe.plot(kind=\"bar\",stacked=True,figsize=size_,rot=rot_,title=title_)\n",
        "  # Annotate bars\n",
        "  annotate_stacked_bars(ax, textsize=14)\n",
        "  # Rename legend\n",
        "  plt.legend([\"Retention\", \"Churn\"], loc=legend_)\n",
        "  # Labels\n",
        "  plt.ylabel(\"Company base (%)\")\n",
        "  plt.show()\n",
        "  \n",
        "def annotate_stacked_bars(ax, pad=0.99, colour=\"white\", textsize=13):\n",
        "  \"\"\"    Add value annotations to the bars    \"\"\"\n",
        "  # Iterate over the plotted rectanges/bars\n",
        "  for p in ax.patches:\n",
        "    # Calculate annotation\n",
        "    value=str(round(p.get_height(),1))\n",
        "    # If value is 0 do not annotate\n",
        "    if value=='0.0':\n",
        "      continue\n",
        "    ax.annotate(value,\n",
        "                ((p.get_x()+p.get_width()/2)*pad-0.05, (p.get_y()+p.get_height()/2)*pad),\n",
        "                color=colour,\n",
        "                size=textsize\n",
        "                )"
      ],
      "execution_count": 14,
      "outputs": []
    },
    {
      "cell_type": "code",
      "metadata": {
        "id": "Sis7wNhPzlqA"
      },
      "source": [
        "churn_total=churn.groupby(churn[\"churn\"]).count()\n",
        "churn_percentage=churn_total/churn_total.sum()*10"
      ],
      "execution_count": 15,
      "outputs": []
    },
    {
      "cell_type": "code",
      "metadata": {
        "colab": {
          "base_uri": "https://localhost:8080/",
          "height": 338
        },
        "id": "Ao7VSOWwzquk",
        "outputId": "48940cdf-740a-45bf-8463-d21e485f9497"
      },
      "source": [
        "plot_stacked_bars(churn_percentage.transpose(),\"Churning status\", (5,5), legend_=\"lower right\")"
      ],
      "execution_count": 16,
      "outputs": [
        {
          "output_type": "display_data",
          "data": {
            "image/png": "[encoded data removed]",
            "text/plain": [
              "<Figure size 360x360 with 1 Axes>"
            ]
          },
          "metadata": {
            "tags": [],
            "needs_background": "light"
          }
        }
      ]
    },
    {
      "cell_type": "code",
      "metadata": {
        "id": "cBv8upyAzs0e"
      },
      "source": [
        "#Let's show the activity distribution of the companies as well as the sales channel.Intuitively this might be an important predictive feature\n",
        "activity=train[[\"id\",\"activity_new\", \"churn\"]]\n",
        "activity=activity.groupby([activity[\"activity_new\"],activity[\"churn\"]])[\"id\"].count().unstack(level=1).sort_values(by=[0], ascending=False)"
      ],
      "execution_count": 17,
      "outputs": []
    },
    {
      "cell_type": "code",
      "metadata": {
        "colab": {
          "base_uri": "https://localhost:8080/",
          "height": 532
        },
        "id": "7nf7Jslh0FfP",
        "outputId": "df01db29-c8f9-4cb0-f2af-3201d96d5bfa"
      },
      "source": [
        "activity.plot(kind=\"bar\",figsize=(18, 10),width=2,stacked=True,title=\"SME Activity\")\n",
        "# Labels\n",
        "plt.ylabel(\"Number of companies\")\n",
        "plt.xlabel(\"Activity\")\n",
        "# Rename legend\n",
        "plt.legend([\"Retention\", \"Churn\"], loc=\"upper right\")\n",
        "# Remove the label for the xticks as the categories are encoded and we can't draw any meaning from them yet\n",
        "plt.xticks([])\n",
        "plt.show()"
      ],
      "execution_count": 18,
      "outputs": [
        {
          "output_type": "display_data",
          "data": {
            "image/png": "[encoded data removed]",
            "text/plain": [
              "<Figure size 1296x720 with 1 Axes>"
            ]
          },
          "metadata": {
            "tags": [],
            "needs_background": "light"
          }
        }
      ]
    },
    {
      "cell_type": "markdown",
      "metadata": {
        "id": "lO0WfgM80VWt"
      },
      "source": [
        "Our predictive model is likely to struggle accurately predicting the the SME activity due to the large number of categories and lownumber of companies belonging to each category"
      ]
    },
    {
      "cell_type": "code",
      "metadata": {
        "colab": {
          "base_uri": "https://localhost:8080/",
          "height": 640
        },
        "id": "xip0JlxY0crJ",
        "outputId": "4179d62c-9ee9-468f-af7a-2e3642613f8f"
      },
      "source": [
        "#check out the sales method \n",
        "channel=train[[\"id\",\"channel_sales\", \"churn\"]]\n",
        "channel=channel.groupby([channel[\"channel_sales\"],channel[\"churn\"]])[\"id\"].count().unstack(level=1).fillna(0)\n",
        "channel_churn= (channel.div(channel.sum(axis=1), axis=0)*100).sort_values(by=[1], ascending=False)\n",
        "plot_stacked_bars(channel_churn, \"Sales Channel\", rot_=30)"
      ],
      "execution_count": 20,
      "outputs": [
        {
          "output_type": "display_data",
          "data": {
            "image/png": "[encoded data removed]",
            "text/plain": [
              "<Figure size 1296x720 with 1 Axes>"
            ]
          },
          "metadata": {
            "tags": [],
            "needs_background": "light"
          }
        }
      ]
    },
    {
      "cell_type": "code",
      "metadata": {
        "colab": {
          "base_uri": "https://localhost:8080/",
          "height": 300
        },
        "id": "1_4_fcm50q9E",
        "outputId": "7b594f7b-6db1-4a61-f550-d562d5417023"
      },
      "source": [
        "channel_total= channel.fillna(0)[0]+channel.fillna(0)[1]\n",
        "channel_percentage=channel.fillna(0)[1]/(channel_total)*100\n",
        "pd.DataFrame({\"Churn percentage\": channel_percentage,\"Total companies\": channel_total }).sort_values(by=\"Churn percentage\",ascending=False).head(10)"
      ],
      "execution_count": 22,
      "outputs": [
        {
          "output_type": "execute_result",
          "data": {
            "text/html": [
              "<div>\n",
              "<style scoped>\n",
              "    .dataframe tbody tr th:only-of-type {\n",
              "        vertical-align: middle;\n",
              "    }\n",
              "\n",
              "    .dataframe tbody tr th {\n",
              "        vertical-align: top;\n",
              "    }\n",
              "\n",
              "    .dataframe thead th {\n",
              "        text-align: right;\n",
              "    }\n",
              "</style>\n",
              "<table border=\"1\" class=\"dataframe\">\n",
              "  <thead>\n",
              "    <tr style=\"text-align: right;\">\n",
              "      <th></th>\n",
              "      <th>Churn percentage</th>\n",
              "      <th>Total companies</th>\n",
              "    </tr>\n",
              "    <tr>\n",
              "      <th>channel_sales</th>\n",
              "      <th></th>\n",
              "      <th></th>\n",
              "    </tr>\n",
              "  </thead>\n",
              "  <tbody>\n",
              "    <tr>\n",
              "      <th>foosdfpfkusacimwkcsosbicdxkicaua</th>\n",
              "      <td>12.498306</td>\n",
              "      <td>7377.0</td>\n",
              "    </tr>\n",
              "    <tr>\n",
              "      <th>usilxuppasemubllopkaafesmlibmsdf</th>\n",
              "      <td>10.387812</td>\n",
              "      <td>1444.0</td>\n",
              "    </tr>\n",
              "    <tr>\n",
              "      <th>ewpakwlliwisiwduibdlfmalxowmwpci</th>\n",
              "      <td>8.488613</td>\n",
              "      <td>966.0</td>\n",
              "    </tr>\n",
              "    <tr>\n",
              "      <th>lmkebamcaaclubfxadlmueccxoimlema</th>\n",
              "      <td>5.595755</td>\n",
              "      <td>2073.0</td>\n",
              "    </tr>\n",
              "    <tr>\n",
              "      <th>epumfxlbckeskwekxbiuasklxalciiuu</th>\n",
              "      <td>0.000000</td>\n",
              "      <td>4.0</td>\n",
              "    </tr>\n",
              "    <tr>\n",
              "      <th>fixdbufsefwooaasfcxdxadsiekoceaa</th>\n",
              "      <td>0.000000</td>\n",
              "      <td>2.0</td>\n",
              "    </tr>\n",
              "    <tr>\n",
              "      <th>sddiedcslfslkckwlfkdpoeeailfpeds</th>\n",
              "      <td>0.000000</td>\n",
              "      <td>12.0</td>\n",
              "    </tr>\n",
              "  </tbody>\n",
              "</table>\n",
              "</div>"
            ],
            "text/plain": [
              "                                  Churn percentage  Total companies\n",
              "channel_sales                                                      \n",
              "foosdfpfkusacimwkcsosbicdxkicaua         12.498306           7377.0\n",
              "usilxuppasemubllopkaafesmlibmsdf         10.387812           1444.0\n",
              "ewpakwlliwisiwduibdlfmalxowmwpci          8.488613            966.0\n",
              "lmkebamcaaclubfxadlmueccxoimlema          5.595755           2073.0\n",
              "epumfxlbckeskwekxbiuasklxalciiuu          0.000000              4.0\n",
              "fixdbufsefwooaasfcxdxadsiekoceaa          0.000000              2.0\n",
              "sddiedcslfslkckwlfkdpoeeailfpeds          0.000000             12.0"
            ]
          },
          "metadata": {
            "tags": []
          },
          "execution_count": 22
        }
      ]
    },
    {
      "cell_type": "markdown",
      "metadata": {
        "id": "R9rMcAAQ1GOY"
      },
      "source": [
        "The sales channel 'foosdfpfkusacimwkcsosbicdxkicaua' is respnsible for most of the sales and thus it makes sense for it to account for a lager churn percentage"
      ]
    },
    {
      "cell_type": "code",
      "metadata": {
        "id": "N9RWyWNF1RzJ"
      },
      "source": [
        "#consumption distribution over the past year \n",
        "consumption=train[[\"id\",\"cons_12m\", \"cons_gas_12m\",\"cons_last_month\", \"imp_cons\", \"has_gas\", \"churn\"]]\n"
      ],
      "execution_count": null,
      "outputs": []
    },
    {
      "cell_type": "markdown",
      "metadata": {
        "id": "Wz9h58Ig1fo1"
      },
      "source": [
        "To easily visualize unvariate data , use a histogram "
      ]
    },
    {
      "cell_type": "code",
      "metadata": {
        "id": "G5d-6yBI1e02"
      },
      "source": [
        ""
      ],
      "execution_count": null,
      "outputs": []
    }
  ]
}